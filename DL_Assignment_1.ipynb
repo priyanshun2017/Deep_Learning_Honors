{
  "nbformat": 4,
  "nbformat_minor": 0,
  "metadata": {
    "colab": {
      "provenance": [],
      "authorship_tag": "ABX9TyPPUx8R7eAcd3L6oEOR8Qp9",
      "include_colab_link": true
    },
    "kernelspec": {
      "name": "python3",
      "display_name": "Python 3"
    },
    "language_info": {
      "name": "python"
    }
  },
  "cells": [
    {
      "cell_type": "markdown",
      "metadata": {
        "id": "view-in-github",
        "colab_type": "text"
      },
      "source": [
        "<a href=\"https://colab.research.google.com/github/priyanshun2017/Deep_Learning_Honors/blob/main/DL_Assignment_1.ipynb\" target=\"_parent\"><img src=\"https://colab.research.google.com/assets/colab-badge.svg\" alt=\"Open In Colab\"/></a>"
      ]
    },
    {
      "cell_type": "markdown",
      "source": [
        "Deep Learning Assignment-1: Python Basics with Numpy (Assignment)\n",
        "\n",
        "Submission By: Priyanshu Niranjan\n",
        "\n",
        "Reg. No: 21CS1034\n",
        "\n"
      ],
      "metadata": {
        "id": "GGJBN1ZMMBC3"
      }
    },
    {
      "cell_type": "code",
      "execution_count": 10,
      "metadata": {
        "colab": {
          "base_uri": "https://localhost:8080/"
        },
        "id": "_xdt3I7vLgWj",
        "outputId": "45f0d0bd-9600-4d4b-a6dc-0ab41507503b"
      },
      "outputs": [
        {
          "output_type": "stream",
          "name": "stdout",
          "text": [
            "Text:Hello World !\n"
          ]
        }
      ],
      "source": [
        "# Exercise 1:\n",
        "test = \"Hello World !\"\n",
        "print(\"Text:\" + test)"
      ]
    },
    {
      "cell_type": "code",
      "source": [
        "# Exercise 2:\n",
        "import numpy as np\n",
        "\n",
        "def basic_sigmoid(x):\n",
        "    \"\"\"\n",
        "    Compute sigmoid of x.\n",
        "\n",
        "    Arguments:\n",
        "    x -- A scalar or numpy array\n",
        "\n",
        "    Return:\n",
        "    s -- sigmoid(x)\n",
        "    \"\"\"\n",
        "    x = np.array(x)\n",
        "    s = 1 / (1 + np.exp(-x))\n",
        "    return s\n",
        "\n",
        "# a scalar\n",
        "print(\"basic_sigmoid(1) = \" + str(basic_sigmoid(1)))\n",
        "\n",
        "#  a vector\n",
        "x = [1, 2, 3]\n",
        "print(\"basic_sigmoid([1, 2, 3]) = \" + str(basic_sigmoid(x)))\n"
      ],
      "metadata": {
        "colab": {
          "base_uri": "https://localhost:8080/"
        },
        "id": "eqeco2SnMhI9",
        "outputId": "841cc75c-3719-4963-c60f-ef0441b23cd0"
      },
      "execution_count": 11,
      "outputs": [
        {
          "output_type": "stream",
          "name": "stdout",
          "text": [
            "basic_sigmoid(1) = 0.7310585786300049\n",
            "basic_sigmoid([1, 2, 3]) = [0.73105858 0.88079708 0.95257413]\n"
          ]
        }
      ]
    },
    {
      "cell_type": "code",
      "source": [
        "# Exercise 3\n",
        "# GRADED FUNCTION: sigmoid\n",
        "\n",
        "def sigmoid(x):\n",
        "    \"\"\"\n",
        "    Compute the sigmoid of x\n",
        "\n",
        "    Arguments:\n",
        "    x -- A scalar or numpy array of any size\n",
        "\n",
        "    Return:\n",
        "    s -- sigmoid(x)\n",
        "    \"\"\"\n",
        "\n",
        "    # (≈ 1 line of code)\n",
        "    # s =\n",
        "    # YOUR CODE STARTS HERE\n",
        "    x = np.array(x)\n",
        "    s = 1 / (1+np.exp(-x))\n",
        "\n",
        "    # YOUR CODE ENDS HERE\n",
        "\n",
        "    return s\n",
        "\n",
        "t_x = np.array([1, 2, 3])\n",
        "print(\"sigmoid(t_x) = \" + str(sigmoid(t_x)))\n",
        "\n",
        "#sigmoid_test(sigmoid)"
      ],
      "metadata": {
        "colab": {
          "base_uri": "https://localhost:8080/"
        },
        "id": "_LPypnL1NqQX",
        "outputId": "ff07a05f-d0cc-46bd-d142-778c234735fc"
      },
      "execution_count": 14,
      "outputs": [
        {
          "output_type": "stream",
          "name": "stdout",
          "text": [
            "sigmoid(t_x) = [0.73105858 0.88079708 0.95257413]\n"
          ]
        }
      ]
    },
    {
      "cell_type": "code",
      "source": [
        "# Exercise 4\n",
        "# GRADED FUNCTION: sigmoid_derivative\n",
        "import numpy as np\n",
        "\n",
        "def sigmoid_derivative(x):\n",
        "    \"\"\"\n",
        "    Compute the gradient (also called the slope or derivative) of the sigmoid function with respect to its input x.\n",
        "    You can store the output of the sigmoid function into variables and then use it to calculate the gradient.\n",
        "\n",
        "    Arguments:\n",
        "    x -- A scalar or numpy array\n",
        "\n",
        "    Return:\n",
        "    ds -- Your computed gradient.\n",
        "    \"\"\"\n",
        "\n",
        "    #(≈ 2 lines of code)\n",
        "    # s =\n",
        "    # ds =\n",
        "    # YOUR CODE STARTS HERE\n",
        "    x = np.array(x)\n",
        "    ds = (1 / (1+np.exp(-x)))*(1 - 1 / (1+np.exp(-x)))\n",
        "\n",
        "    # YOUR CODE ENDS HERE\n",
        "\n",
        "    return ds\n",
        "\n",
        "\n",
        "t_x = np.array([1, 2, 3])\n",
        "print (\"sigmoid_derivative(t_x) = \" + str(sigmoid_derivative(t_x)))\n",
        "\n",
        "#sigmoid_derivative_test(sigmoid_derivative)"
      ],
      "metadata": {
        "colab": {
          "base_uri": "https://localhost:8080/"
        },
        "id": "DSq2iFcPPf65",
        "outputId": "61148f7a-1544-4ee0-eb18-75dae2714e47"
      },
      "execution_count": 18,
      "outputs": [
        {
          "output_type": "stream",
          "name": "stdout",
          "text": [
            "sigmoid_derivative(t_x) = [0.19661193 0.10499359 0.04517666]\n"
          ]
        }
      ]
    },
    {
      "cell_type": "code",
      "source": [
        "# Exercise 5\n",
        "# GRADED FUNCTION:image2vector\n",
        "\n",
        "def image2vector(image):\n",
        "    \"\"\"\n",
        "    Argument:\n",
        "    image -- a numpy array of shape (length, height, depth)\n",
        "\n",
        "    Returns:\n",
        "    v -- a vector of shape (length*height*depth, 1)\n",
        "    \"\"\"\n",
        "\n",
        "    # (≈ 1 line of code)\n",
        "    # v =\n",
        "    # YOUR CODE STARTS HERE\n",
        "    v = image.reshape((image.shape[0]* image.shape[1], image.shape[2]))\n",
        "    # YOUR CODE ENDS HERE\n",
        "\n",
        "    return v\n",
        "\n",
        "# This is a 3 by 3 by 2 array, typically images will be (num_px_x, num_px_y,3) where 3 represents the RGB values\n",
        "t_image = np.array([[[ 0.67826139,  0.29380381],\n",
        "                     [ 0.90714982,  0.52835647],\n",
        "                     [ 0.4215251 ,  0.45017551]],\n",
        "\n",
        "                   [[ 0.92814219,  0.96677647],\n",
        "                    [ 0.85304703,  0.52351845],\n",
        "                    [ 0.19981397,  0.27417313]],\n",
        "\n",
        "                   [[ 0.60659855,  0.00533165],\n",
        "                    [ 0.10820313,  0.49978937],\n",
        "                    [ 0.34144279,  0.94630077]]])\n",
        "\n",
        "print (\"image2vector(image) = \" + str(image2vector(t_image)))"
      ],
      "metadata": {
        "colab": {
          "base_uri": "https://localhost:8080/"
        },
        "id": "z4NXaDc4QE0y",
        "outputId": "b3f3fe55-d224-45e6-bc45-90c4d22b5a64"
      },
      "execution_count": 26,
      "outputs": [
        {
          "output_type": "stream",
          "name": "stdout",
          "text": [
            "image2vector(image) = [[0.67826139 0.29380381]\n",
            " [0.90714982 0.52835647]\n",
            " [0.4215251  0.45017551]\n",
            " [0.92814219 0.96677647]\n",
            " [0.85304703 0.52351845]\n",
            " [0.19981397 0.27417313]\n",
            " [0.60659855 0.00533165]\n",
            " [0.10820313 0.49978937]\n",
            " [0.34144279 0.94630077]]\n"
          ]
        }
      ]
    },
    {
      "cell_type": "code",
      "source": [
        "# Exercise 6:\n",
        "import numpy as np\n",
        "# GRADED FUNCTION: normalize_rows\n",
        "\n",
        "def normalize_rows(x):\n",
        "    \"\"\"\n",
        "    Implement a function that normalizes each row of the matrix x (to have unit length).\n",
        "\n",
        "    Argument:\n",
        "    x -- A numpy matrix of shape (n, m)\n",
        "\n",
        "    Returns:\n",
        "    x -- The normalized (by row) numpy matrix. You are allowed to modify x.\n",
        "    \"\"\"\n",
        "\n",
        "    #(≈ 2 lines of code)\n",
        "    # Compute x_norm as the norm 2 of x. Use np.linalg.norm(..., ord = 2, axis = ..., keepdims = True)\n",
        "    # x_norm =\n",
        "    # Divide x by its norm.\n",
        "    # x =\n",
        "    # YOUR CODE STARTS HERE\n",
        "    x_norm = np.linalg.norm(x, ord=2, keepdims=True)\n",
        "    x = x / x_norm\n",
        "\n",
        "    # YOUR CODE ENDS HERE\n",
        "\n",
        "    return x\n",
        "\n",
        "x = np.array([[0, 3, 4],\n",
        "              [1, 6, 4]])\n",
        "print(\"normalizeRows(x) = \" + str(normalize_rows(x)))\n",
        "\n",
        "#normalizeRows_test(normalize_rows)"
      ],
      "metadata": {
        "colab": {
          "base_uri": "https://localhost:8080/"
        },
        "id": "agDuvL0oRRpd",
        "outputId": "ce817c9a-09f7-4b32-8387-5a5340020841"
      },
      "execution_count": 30,
      "outputs": [
        {
          "output_type": "stream",
          "name": "stdout",
          "text": [
            "normalizeRows(x) = [[0.         0.34464652 0.45952869]\n",
            " [0.11488217 0.68929303 0.45952869]]\n"
          ]
        }
      ]
    },
    {
      "cell_type": "code",
      "source": [
        "# Exerise 7:\n",
        "# GRADED FUNCTION: softmax\n",
        "\n",
        "def softmax(x):\n",
        "    \"\"\"Calculates the softmax for each row of the input x.\n",
        "\n",
        "    Your code should work for a row vector and also for matrices of shape (m,n).\n",
        "\n",
        "    Argument:\n",
        "    x -- A numpy matrix of shape (m,n)\n",
        "\n",
        "    Returns:\n",
        "    s -- A numpy matrix equal to the softmax of x, of shape (m,n)\n",
        "    \"\"\"\n",
        "\n",
        "    #(≈ 3 lines of code)\n",
        "    # Apply exp() element-wise to x. Use np.exp(...).\n",
        "    # x_exp = ...\n",
        "    x_shifted = x - np.max(x, axis=1, keepdims=True)\n",
        "    x_exp = np.exp(np.array(x_shifted))\n",
        "    # Create a vector x_sum that sums each row of x_exp. Use np.sum(..., axis = 1, keepdims = True).\n",
        "    # x_sum = ...\n",
        "    x_sum = np.sum(x_exp, axis=1, keepdims=True)\n",
        "    # Compute softmax(x) by dividing x_exp by x_sum. It should automatically use numpy broadcasting.\n",
        "    # s = ...\n",
        "    s = x_exp / x_sum\n",
        "    # YOUR CODE STARTS HERE\n",
        "\n",
        "\n",
        "    # YOUR CODE ENDS HERE\n",
        "\n",
        "    return s\n",
        "\n",
        "t_x = np.array([[9, 2, 5, 0, 0],\n",
        "                [7, 5, 0, 0 ,0]])\n",
        "print(\"softmax(x) = \" + str(softmax(t_x)))\n",
        "\n",
        "#softmax_test(softmax)"
      ],
      "metadata": {
        "colab": {
          "base_uri": "https://localhost:8080/"
        },
        "id": "5ErAFL2HSmf-",
        "outputId": "6f812f9e-b7da-427e-e489-b8fabbe669a6"
      },
      "execution_count": 35,
      "outputs": [
        {
          "output_type": "stream",
          "name": "stdout",
          "text": [
            "softmax(x) = [[9.80897665e-01 8.94462891e-04 1.79657674e-02 1.21052389e-04\n",
            "  1.21052389e-04]\n",
            " [8.78679856e-01 1.18916387e-01 8.01252314e-04 8.01252314e-04\n",
            "  8.01252314e-04]]\n"
          ]
        }
      ]
    },
    {
      "cell_type": "code",
      "source": [
        "# Exercise 8:\n",
        "# GRADED FUNCTION: L1\n",
        "import math\n",
        "def L1(yhat, y):\n",
        "    \"\"\"\n",
        "    Arguments:\n",
        "    yhat -- vector of size m (predicted labels)\n",
        "    y -- vector of size m (true labels)\n",
        "\n",
        "    Returns:\n",
        "    loss -- the value of the L1 loss function defined above\n",
        "    \"\"\"\n",
        "\n",
        "    #(≈ 1 line of code)\n",
        "    # loss =\n",
        "    # YOUR CODE STARTS HERE\n",
        "    loss = np.sum(abs(np.array(yhat) - np.array(y)))\n",
        "    # YOUR CODE ENDS HERE\n",
        "\n",
        "    return loss\n",
        "\n",
        "yhat = np.array([.9, 0.2, 0.1, .4, .9])\n",
        "y = np.array([1, 0, 0, 1, 1])\n",
        "print(\"L1 = \" + str(L1(yhat, y)))\n",
        "\n",
        "#L1_test(L1)"
      ],
      "metadata": {
        "colab": {
          "base_uri": "https://localhost:8080/"
        },
        "id": "UzuVOU5jTu_l",
        "outputId": "d81b5de0-d4a2-43f9-9f73-077e9d28193b"
      },
      "execution_count": 39,
      "outputs": [
        {
          "output_type": "stream",
          "name": "stdout",
          "text": [
            "L1 = 1.1\n"
          ]
        }
      ]
    },
    {
      "cell_type": "code",
      "source": [
        "# Exercise 9:\n",
        "# GRADED FUNCTION: L2\n",
        "\n",
        "def L2(yhat, y):\n",
        "    \"\"\"\n",
        "    Arguments:\n",
        "    yhat -- vector of size m (predicted labels)\n",
        "    y -- vector of size m (true labels)\n",
        "\n",
        "    Returns:\n",
        "    loss -- the value of the L2 loss function defined above\n",
        "    \"\"\"\n",
        "\n",
        "    #(≈ 1 line of code)\n",
        "    # loss = ...\n",
        "    # YOUR CODE STARTS HERE\n",
        "    loss = np.sum(np.power(abs(np.array(yhat) - np.array(y)), 2.0))\n",
        "    # YOUR CODE ENDS HERE\n",
        "\n",
        "    return loss\n",
        "\n",
        "yhat = np.array([.9, 0.2, 0.1, .4, .9])\n",
        "y = np.array([1, 0, 0, 1, 1])\n",
        "\n",
        "print(\"L2 = \" + str(L2(yhat, y)))\n",
        "\n",
        "#L2_test(L2)"
      ],
      "metadata": {
        "colab": {
          "base_uri": "https://localhost:8080/"
        },
        "id": "03o2_JoIUPmA",
        "outputId": "55287d69-239f-4c48-e5c6-0bdfc6ba6352"
      },
      "execution_count": 43,
      "outputs": [
        {
          "output_type": "stream",
          "name": "stdout",
          "text": [
            "L2 = 0.43\n"
          ]
        }
      ]
    },
    {
      "cell_type": "code",
      "source": [],
      "metadata": {
        "id": "sNUf5rKKWFse"
      },
      "execution_count": null,
      "outputs": []
    }
  ]
}